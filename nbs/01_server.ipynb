{
 "cells": [
  {
   "cell_type": "code",
   "execution_count": null,
   "metadata": {},
   "outputs": [],
   "source": [
    "#| default_exp server"
   ]
  },
  {
   "cell_type": "code",
   "execution_count": null,
   "metadata": {},
   "outputs": [],
   "source": [
    "#| export\n",
    "from ai_estimator.core import *\n",
    "import modal\n",
    "from fastapi import FastAPI\n",
    "import gradio as gr\n",
    "from gradio.routes import mount_gradio_app\n",
    "\n",
    "from modal import asgi_app"
   ]
  },
  {
   "cell_type": "code",
   "execution_count": null,
   "metadata": {},
   "outputs": [],
   "source": [
    "#| export\n",
    "web_app = FastAPI()\n",
    "image = modal.Image.debian_slim().pip_install(\"pandas\", \"numpy\", \"langchain\", \"gradio\",\"pydantic==2.3.0\", \"openai\")\n",
    "stub = modal.Stub(\"ai_estimator\")\n",
    "@stub.function(\n",
    "    image=image,\n",
    "    secret=modal.Secret.from_name(\"OPENAI_API_KEY\"),\n",
    "    concurrency_limit=1,\n",
    ")\n",
    "@asgi_app()\n",
    "def run_server():\n",
    "    return mount_gradio_app(\n",
    "        app=web_app,\n",
    "        blocks=gr.ChatInterface(gradio_agent, chatbot=gr.Chatbot(height=600)),\n",
    "        path=\"/\",\n",
    "    )\n",
    "    "
   ]
  }
 ],
 "metadata": {
  "kernelspec": {
   "display_name": "python3",
   "language": "python",
   "name": "python3"
  }
 },
 "nbformat": 4,
 "nbformat_minor": 2
}
